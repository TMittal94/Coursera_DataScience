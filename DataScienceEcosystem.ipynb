{
 "cells": [
  {
   "cell_type": "markdown",
   "id": "d564dd2d-f6d4-480b-9e76-cf46f958bed4",
   "metadata": {},
   "source": [
    "# Data Science Tools and Ecosystem"
   ]
  },
  {
   "cell_type": "markdown",
   "id": "fc61db3a-e2c7-4e84-bd31-90bdb0ee6043",
   "metadata": {},
   "source": [
    "### In this notebook, Data Science Tools and Ecosystem are summarized."
   ]
  },
  {
   "cell_type": "markdown",
   "id": "f78bbc1a-1fc3-4a91-b4fb-24dbff652e07",
   "metadata": {},
   "source": [
    "### **Objectives**"
   ]
  },
  {
   "cell_type": "markdown",
   "id": "1fba925c-5587-47e7-be50-5be2c78172d2",
   "metadata": {},
   "source": [
    "* List popular languages that Data Scientists use.\n",
    "* List commonly used libraries used by Data Scientists.\n",
    "* Comment on Data Science tools"
   ]
  },
  {
   "cell_type": "markdown",
   "id": "8c5275b6-20ca-4b49-a27e-d39193f73545",
   "metadata": {},
   "source": [
    "#### Some of the popular languages that Data Scientists use are:\n"
   ]
  },
  {
   "cell_type": "markdown",
   "id": "80d9734a-6663-401c-ba32-a3dfd4edec22",
   "metadata": {},
   "source": [
    "1. Python\n",
    "2. R\n",
    "3. SQL\n",
    "4. Java\n",
    "5. Scala\n",
    "6. Julia\n",
    "7. C/C++\n",
    "8. JavaScript \n"
   ]
  },
  {
   "cell_type": "markdown",
   "id": "699fcf2e-dd82-4391-939f-479a8effeffe",
   "metadata": {},
   "source": [
    "#### Some of the commonly used libraries used by Data Scientists include:"
   ]
  },
  {
   "cell_type": "markdown",
   "id": "6029e9f1-f38d-4ef3-9788-a72b0e0d9d25",
   "metadata": {},
   "source": [
    "1. TensorFlow\n",
    "2. NumPy\n",
    "3. SciPy\n",
    "4. Pandas\n",
    "5. Matplotlib\n",
    "6. Keras\n",
    "7. SciKit-Learn\n",
    "8. PyTorch\n",
    "9. Scrapy\n",
    "10. BeautifulSoup"
   ]
  },
  {
   "cell_type": "markdown",
   "id": "335458f3-5cab-47b3-a981-7df8016d75a2",
   "metadata": {},
   "source": [
    "#### Data Science Tools"
   ]
  },
  {
   "cell_type": "markdown",
   "id": "3ef9a0d6-9039-498e-9cdb-b10d8553ef59",
   "metadata": {},
   "source": [
    "| Data Science Tools |\n",
    "|------------------- |\n",
    "| MySQL |\n",
    "| PostgreSQL |\n",
    "| Apache Spark |\n",
    "| Jupyter |\n",
    "| RStudio |\n",
    "| Kafka |\n",
    "| Airflow |\n",
    "| Kibana |\n",
    "| Superset |"
   ]
  },
  {
   "cell_type": "markdown",
   "id": "a1f5eac6-d7d0-4c9f-a8d5-5ad26ae5b6af",
   "metadata": {},
   "source": [
    "### Below are a few examples of evaluating arithmetic expressions in Python"
   ]
  },
  {
   "cell_type": "markdown",
   "id": "d5836f58-c16e-4251-a513-0184ef59de52",
   "metadata": {},
   "source": [
    "#### This a simple arithmetic expression to mutiply then add integers"
   ]
  },
  {
   "cell_type": "code",
   "execution_count": 13,
   "id": "98695c62-d150-46d5-a11a-08fcda078d14",
   "metadata": {},
   "outputs": [
    {
     "data": {
      "text/plain": [
       "17"
      ]
     },
     "execution_count": 13,
     "metadata": {},
     "output_type": "execute_result"
    }
   ],
   "source": [
    "(3*4)+5"
   ]
  },
  {
   "cell_type": "markdown",
   "id": "ad51006c-560f-4420-b821-96307cef1f81",
   "metadata": {},
   "source": [
    "####  This will convert 200 minutes to hours by diving by 60"
   ]
  },
  {
   "cell_type": "code",
   "execution_count": 14,
   "id": "497fb5a2-8083-48da-a0ca-a080bceb45a4",
   "metadata": {},
   "outputs": [
    {
     "name": "stdout",
     "output_type": "stream",
     "text": [
      "0 days, 3.3333333333333335 hours, 0 mins. \n"
     ]
    }
   ],
   "source": [
    "days = 0\n",
    "hours = 0\n",
    "mins = 0\n",
    "\n",
    "time = 200\n",
    "#days = time / 1440\n",
    "leftover_minutes = time % 1440\n",
    "hours = leftover_minutes / 60\n",
    "#mins = time - (days*1440) - (hours*60)\n",
    "print(str(days) + \" days, \" + str(hours) + \" hours, \" + str(mins) +  \" mins. \")"
   ]
  },
  {
   "cell_type": "markdown",
   "id": "efc42b25-1ea2-43f9-8033-a0c424ffb94f",
   "metadata": {},
   "source": [
    "## Author"
   ]
  },
  {
   "cell_type": "markdown",
   "id": "b46a0f0e-6c4b-4c78-83d7-0eadab483b97",
   "metadata": {},
   "source": [
    "Twinkle Mittal"
   ]
  },
  {
   "cell_type": "code",
   "execution_count": null,
   "id": "24acd10b-b032-4a89-bb33-85526cdd0fe7",
   "metadata": {},
   "outputs": [],
   "source": []
  }
 ],
 "metadata": {
  "kernelspec": {
   "display_name": "Python 3 (ipykernel)",
   "language": "python",
   "name": "python3"
  },
  "language_info": {
   "codemirror_mode": {
    "name": "ipython",
    "version": 3
   },
   "file_extension": ".py",
   "mimetype": "text/x-python",
   "name": "python",
   "nbconvert_exporter": "python",
   "pygments_lexer": "ipython3",
   "version": "3.11.7"
  }
 },
 "nbformat": 4,
 "nbformat_minor": 5
}
